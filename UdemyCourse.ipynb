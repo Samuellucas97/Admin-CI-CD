{
  "nbformat": 4,
  "nbformat_minor": 0,
  "metadata": {
    "colab": {
      "provenance": [],
      "collapsed_sections": [
        "4w12r4O2ixxD",
        "00B__gMdi6TQ",
        "4KDbGdZplfhi",
        "aSBSPUMEr2Im",
        "-p0OVaxKtwTJ",
        "2F0QbZY7ugZg",
        "5AD4gqdQxMaD",
        "BhSXklzp0j68"
      ],
      "mount_file_id": "1-R86sW9Nc8z_dsfe8KZKSrITqLdYwAkg",
      "authorship_tag": "ABX9TyPCxkCTsvZfoIOMxNP2CrqS",
      "include_colab_link": true
    },
    "kernelspec": {
      "name": "python3",
      "display_name": "Python 3"
    },
    "language_info": {
      "name": "python"
    }
  },
  "cells": [
    {
      "cell_type": "markdown",
      "metadata": {
        "id": "view-in-github",
        "colab_type": "text"
      },
      "source": [
        "<a href=\"https://colab.research.google.com/github/Samuellucas97/Admin-CI-CD/blob/main/UdemyCourse.ipynb\" target=\"_parent\"><img src=\"https://colab.research.google.com/assets/colab-badge.svg\" alt=\"Open In Colab\"/></a>"
      ]
    },
    {
      "cell_type": "markdown",
      "source": [
        "## **Importing Python libs**\n",
        "\n",
        "\n"
      ],
      "metadata": {
        "id": "4w12r4O2ixxD"
      }
    },
    {
      "cell_type": "code",
      "execution_count": 1,
      "metadata": {
        "id": "LoNdIjaUf7r5"
      },
      "outputs": [],
      "source": [
        "# Essential libs\n",
        "import pandas as pd\n",
        "import numpy as np\n",
        "\n",
        "# Graphical libs\n",
        "import matplotlib.pyplot as plt\n",
        "import seaborn as sns"
      ]
    },
    {
      "cell_type": "code",
      "source": [
        "## -> IMPORTANT: This enable to ignore Pandas warnings as well the other warnings.\n",
        "import warnings\n",
        "warnings.filterwarnings('ignore')"
      ],
      "metadata": {
        "id": "0pvE4Yx9hyKR"
      },
      "execution_count": 2,
      "outputs": []
    },
    {
      "cell_type": "markdown",
      "source": [
        "## **Setting up**"
      ],
      "metadata": {
        "id": "00B__gMdi6TQ"
      }
    },
    {
      "cell_type": "code",
      "source": [
        "## Setting up Pandas\n",
        "\n",
        "# It'll only shows 120 rows and 50 columns\n",
        "pd.set_option('display.max_rows', 120)\n",
        "pd.set_option('display.max_columns', 50)"
      ],
      "metadata": {
        "id": "FFpRcTeDiImP"
      },
      "execution_count": 3,
      "outputs": []
    },
    {
      "cell_type": "code",
      "source": [
        "## Setting up Matplotib\n",
        "\n",
        "plt.rcParams['figure.figsize']= (15, 6)\n",
        "# Ploting figure on dark style\n",
        "plt.style.use('seaborn-darkgrid')"
      ],
      "metadata": {
        "id": "5QNlG6wxjHIG"
      },
      "execution_count": 4,
      "outputs": []
    },
    {
      "cell_type": "markdown",
      "source": [
        "## **Exploring the dataset**"
      ],
      "metadata": {
        "id": "1XX9krOkk8gR"
      }
    },
    {
      "cell_type": "markdown",
      "source": [
        "### Getting the dataset"
      ],
      "metadata": {
        "id": "4KDbGdZplfhi"
      }
    },
    {
      "cell_type": "code",
      "source": [
        "dataset = pd.read_csv('/content/drive/MyDrive/MLOps/house_data.csv')\n",
        "dataset.head(10)"
      ],
      "metadata": {
        "colab": {
          "base_uri": "https://localhost:8080/",
          "height": 0
        },
        "id": "orcXlRzNlHTG",
        "outputId": "a295061f-8049-468d-e9d7-6e26c6ad9f4d"
      },
      "execution_count": 5,
      "outputs": [
        {
          "output_type": "execute_result",
          "data": {
            "text/plain": [
              "             city  area  rooms  bathroom  parking spaces floor     animal  \\\n",
              "0       São Paulo    70      2         1               1     7      acept   \n",
              "1       São Paulo   320      4         4               0    20      acept   \n",
              "2    Porto Alegre    80      1         1               1     6      acept   \n",
              "3    Porto Alegre    51      2         1               0     2      acept   \n",
              "4       São Paulo    25      1         1               0     1  not acept   \n",
              "5       São Paulo   376      3         3               7     -      acept   \n",
              "6  Rio de Janeiro    72      2         1               0     7      acept   \n",
              "7       São Paulo   213      4         4               4     4      acept   \n",
              "8       São Paulo   152      2         2               1     3      acept   \n",
              "9  Rio de Janeiro    35      1         1               0     2      acept   \n",
              "\n",
              "       furniture  hoa (R$)  rent amount (R$)  property tax (R$)  \\\n",
              "0      furnished      2065              3300                211   \n",
              "1  not furnished      1200              4960               1750   \n",
              "2  not furnished      1000              2800                  0   \n",
              "3  not furnished       270              1112                 22   \n",
              "4  not furnished         0               800                 25   \n",
              "5  not furnished         0              8000                834   \n",
              "6  not furnished       740              1900                 85   \n",
              "7  not furnished      2254              3223               1735   \n",
              "8      furnished      1000             15000                250   \n",
              "9      furnished       590              2300                 35   \n",
              "\n",
              "   fire insurance (R$)  total (R$)  \n",
              "0                   42        5618  \n",
              "1                   63        7973  \n",
              "2                   41        3841  \n",
              "3                   17        1421  \n",
              "4                   11         836  \n",
              "5                  121        8955  \n",
              "6                   25        2750  \n",
              "7                   41        7253  \n",
              "8                  191       16440  \n",
              "9                   30        2955  "
            ],
            "text/html": [
              "\n",
              "  <div id=\"df-892bdb4a-5c6e-4ecb-a16f-7269590cea36\">\n",
              "    <div class=\"colab-df-container\">\n",
              "      <div>\n",
              "<style scoped>\n",
              "    .dataframe tbody tr th:only-of-type {\n",
              "        vertical-align: middle;\n",
              "    }\n",
              "\n",
              "    .dataframe tbody tr th {\n",
              "        vertical-align: top;\n",
              "    }\n",
              "\n",
              "    .dataframe thead th {\n",
              "        text-align: right;\n",
              "    }\n",
              "</style>\n",
              "<table border=\"1\" class=\"dataframe\">\n",
              "  <thead>\n",
              "    <tr style=\"text-align: right;\">\n",
              "      <th></th>\n",
              "      <th>city</th>\n",
              "      <th>area</th>\n",
              "      <th>rooms</th>\n",
              "      <th>bathroom</th>\n",
              "      <th>parking spaces</th>\n",
              "      <th>floor</th>\n",
              "      <th>animal</th>\n",
              "      <th>furniture</th>\n",
              "      <th>hoa (R$)</th>\n",
              "      <th>rent amount (R$)</th>\n",
              "      <th>property tax (R$)</th>\n",
              "      <th>fire insurance (R$)</th>\n",
              "      <th>total (R$)</th>\n",
              "    </tr>\n",
              "  </thead>\n",
              "  <tbody>\n",
              "    <tr>\n",
              "      <th>0</th>\n",
              "      <td>São Paulo</td>\n",
              "      <td>70</td>\n",
              "      <td>2</td>\n",
              "      <td>1</td>\n",
              "      <td>1</td>\n",
              "      <td>7</td>\n",
              "      <td>acept</td>\n",
              "      <td>furnished</td>\n",
              "      <td>2065</td>\n",
              "      <td>3300</td>\n",
              "      <td>211</td>\n",
              "      <td>42</td>\n",
              "      <td>5618</td>\n",
              "    </tr>\n",
              "    <tr>\n",
              "      <th>1</th>\n",
              "      <td>São Paulo</td>\n",
              "      <td>320</td>\n",
              "      <td>4</td>\n",
              "      <td>4</td>\n",
              "      <td>0</td>\n",
              "      <td>20</td>\n",
              "      <td>acept</td>\n",
              "      <td>not furnished</td>\n",
              "      <td>1200</td>\n",
              "      <td>4960</td>\n",
              "      <td>1750</td>\n",
              "      <td>63</td>\n",
              "      <td>7973</td>\n",
              "    </tr>\n",
              "    <tr>\n",
              "      <th>2</th>\n",
              "      <td>Porto Alegre</td>\n",
              "      <td>80</td>\n",
              "      <td>1</td>\n",
              "      <td>1</td>\n",
              "      <td>1</td>\n",
              "      <td>6</td>\n",
              "      <td>acept</td>\n",
              "      <td>not furnished</td>\n",
              "      <td>1000</td>\n",
              "      <td>2800</td>\n",
              "      <td>0</td>\n",
              "      <td>41</td>\n",
              "      <td>3841</td>\n",
              "    </tr>\n",
              "    <tr>\n",
              "      <th>3</th>\n",
              "      <td>Porto Alegre</td>\n",
              "      <td>51</td>\n",
              "      <td>2</td>\n",
              "      <td>1</td>\n",
              "      <td>0</td>\n",
              "      <td>2</td>\n",
              "      <td>acept</td>\n",
              "      <td>not furnished</td>\n",
              "      <td>270</td>\n",
              "      <td>1112</td>\n",
              "      <td>22</td>\n",
              "      <td>17</td>\n",
              "      <td>1421</td>\n",
              "    </tr>\n",
              "    <tr>\n",
              "      <th>4</th>\n",
              "      <td>São Paulo</td>\n",
              "      <td>25</td>\n",
              "      <td>1</td>\n",
              "      <td>1</td>\n",
              "      <td>0</td>\n",
              "      <td>1</td>\n",
              "      <td>not acept</td>\n",
              "      <td>not furnished</td>\n",
              "      <td>0</td>\n",
              "      <td>800</td>\n",
              "      <td>25</td>\n",
              "      <td>11</td>\n",
              "      <td>836</td>\n",
              "    </tr>\n",
              "    <tr>\n",
              "      <th>5</th>\n",
              "      <td>São Paulo</td>\n",
              "      <td>376</td>\n",
              "      <td>3</td>\n",
              "      <td>3</td>\n",
              "      <td>7</td>\n",
              "      <td>-</td>\n",
              "      <td>acept</td>\n",
              "      <td>not furnished</td>\n",
              "      <td>0</td>\n",
              "      <td>8000</td>\n",
              "      <td>834</td>\n",
              "      <td>121</td>\n",
              "      <td>8955</td>\n",
              "    </tr>\n",
              "    <tr>\n",
              "      <th>6</th>\n",
              "      <td>Rio de Janeiro</td>\n",
              "      <td>72</td>\n",
              "      <td>2</td>\n",
              "      <td>1</td>\n",
              "      <td>0</td>\n",
              "      <td>7</td>\n",
              "      <td>acept</td>\n",
              "      <td>not furnished</td>\n",
              "      <td>740</td>\n",
              "      <td>1900</td>\n",
              "      <td>85</td>\n",
              "      <td>25</td>\n",
              "      <td>2750</td>\n",
              "    </tr>\n",
              "    <tr>\n",
              "      <th>7</th>\n",
              "      <td>São Paulo</td>\n",
              "      <td>213</td>\n",
              "      <td>4</td>\n",
              "      <td>4</td>\n",
              "      <td>4</td>\n",
              "      <td>4</td>\n",
              "      <td>acept</td>\n",
              "      <td>not furnished</td>\n",
              "      <td>2254</td>\n",
              "      <td>3223</td>\n",
              "      <td>1735</td>\n",
              "      <td>41</td>\n",
              "      <td>7253</td>\n",
              "    </tr>\n",
              "    <tr>\n",
              "      <th>8</th>\n",
              "      <td>São Paulo</td>\n",
              "      <td>152</td>\n",
              "      <td>2</td>\n",
              "      <td>2</td>\n",
              "      <td>1</td>\n",
              "      <td>3</td>\n",
              "      <td>acept</td>\n",
              "      <td>furnished</td>\n",
              "      <td>1000</td>\n",
              "      <td>15000</td>\n",
              "      <td>250</td>\n",
              "      <td>191</td>\n",
              "      <td>16440</td>\n",
              "    </tr>\n",
              "    <tr>\n",
              "      <th>9</th>\n",
              "      <td>Rio de Janeiro</td>\n",
              "      <td>35</td>\n",
              "      <td>1</td>\n",
              "      <td>1</td>\n",
              "      <td>0</td>\n",
              "      <td>2</td>\n",
              "      <td>acept</td>\n",
              "      <td>furnished</td>\n",
              "      <td>590</td>\n",
              "      <td>2300</td>\n",
              "      <td>35</td>\n",
              "      <td>30</td>\n",
              "      <td>2955</td>\n",
              "    </tr>\n",
              "  </tbody>\n",
              "</table>\n",
              "</div>\n",
              "      <button class=\"colab-df-convert\" onclick=\"convertToInteractive('df-892bdb4a-5c6e-4ecb-a16f-7269590cea36')\"\n",
              "              title=\"Convert this dataframe to an interactive table.\"\n",
              "              style=\"display:none;\">\n",
              "        \n",
              "  <svg xmlns=\"http://www.w3.org/2000/svg\" height=\"24px\"viewBox=\"0 0 24 24\"\n",
              "       width=\"24px\">\n",
              "    <path d=\"M0 0h24v24H0V0z\" fill=\"none\"/>\n",
              "    <path d=\"M18.56 5.44l.94 2.06.94-2.06 2.06-.94-2.06-.94-.94-2.06-.94 2.06-2.06.94zm-11 1L8.5 8.5l.94-2.06 2.06-.94-2.06-.94L8.5 2.5l-.94 2.06-2.06.94zm10 10l.94 2.06.94-2.06 2.06-.94-2.06-.94-.94-2.06-.94 2.06-2.06.94z\"/><path d=\"M17.41 7.96l-1.37-1.37c-.4-.4-.92-.59-1.43-.59-.52 0-1.04.2-1.43.59L10.3 9.45l-7.72 7.72c-.78.78-.78 2.05 0 2.83L4 21.41c.39.39.9.59 1.41.59.51 0 1.02-.2 1.41-.59l7.78-7.78 2.81-2.81c.8-.78.8-2.07 0-2.86zM5.41 20L4 18.59l7.72-7.72 1.47 1.35L5.41 20z\"/>\n",
              "  </svg>\n",
              "      </button>\n",
              "      \n",
              "  <style>\n",
              "    .colab-df-container {\n",
              "      display:flex;\n",
              "      flex-wrap:wrap;\n",
              "      gap: 12px;\n",
              "    }\n",
              "\n",
              "    .colab-df-convert {\n",
              "      background-color: #E8F0FE;\n",
              "      border: none;\n",
              "      border-radius: 50%;\n",
              "      cursor: pointer;\n",
              "      display: none;\n",
              "      fill: #1967D2;\n",
              "      height: 32px;\n",
              "      padding: 0 0 0 0;\n",
              "      width: 32px;\n",
              "    }\n",
              "\n",
              "    .colab-df-convert:hover {\n",
              "      background-color: #E2EBFA;\n",
              "      box-shadow: 0px 1px 2px rgba(60, 64, 67, 0.3), 0px 1px 3px 1px rgba(60, 64, 67, 0.15);\n",
              "      fill: #174EA6;\n",
              "    }\n",
              "\n",
              "    [theme=dark] .colab-df-convert {\n",
              "      background-color: #3B4455;\n",
              "      fill: #D2E3FC;\n",
              "    }\n",
              "\n",
              "    [theme=dark] .colab-df-convert:hover {\n",
              "      background-color: #434B5C;\n",
              "      box-shadow: 0px 1px 3px 1px rgba(0, 0, 0, 0.15);\n",
              "      filter: drop-shadow(0px 1px 2px rgba(0, 0, 0, 0.3));\n",
              "      fill: #FFFFFF;\n",
              "    }\n",
              "  </style>\n",
              "\n",
              "      <script>\n",
              "        const buttonEl =\n",
              "          document.querySelector('#df-892bdb4a-5c6e-4ecb-a16f-7269590cea36 button.colab-df-convert');\n",
              "        buttonEl.style.display =\n",
              "          google.colab.kernel.accessAllowed ? 'block' : 'none';\n",
              "\n",
              "        async function convertToInteractive(key) {\n",
              "          const element = document.querySelector('#df-892bdb4a-5c6e-4ecb-a16f-7269590cea36');\n",
              "          const dataTable =\n",
              "            await google.colab.kernel.invokeFunction('convertToInteractive',\n",
              "                                                     [key], {});\n",
              "          if (!dataTable) return;\n",
              "\n",
              "          const docLinkHtml = 'Like what you see? Visit the ' +\n",
              "            '<a target=\"_blank\" href=https://colab.research.google.com/notebooks/data_table.ipynb>data table notebook</a>'\n",
              "            + ' to learn more about interactive tables.';\n",
              "          element.innerHTML = '';\n",
              "          dataTable['output_type'] = 'display_data';\n",
              "          await google.colab.output.renderOutput(dataTable, element);\n",
              "          const docLink = document.createElement('div');\n",
              "          docLink.innerHTML = docLinkHtml;\n",
              "          element.appendChild(docLink);\n",
              "        }\n",
              "      </script>\n",
              "    </div>\n",
              "  </div>\n",
              "  "
            ]
          },
          "metadata": {},
          "execution_count": 5
        }
      ]
    },
    {
      "cell_type": "code",
      "source": [
        "dataset.shape"
      ],
      "metadata": {
        "colab": {
          "base_uri": "https://localhost:8080/"
        },
        "id": "nP1VBhPFln9N",
        "outputId": "c52364c7-7712-4976-e24a-06f9bf8ed629"
      },
      "execution_count": 6,
      "outputs": [
        {
          "output_type": "execute_result",
          "data": {
            "text/plain": [
              "(10692, 13)"
            ]
          },
          "metadata": {},
          "execution_count": 6
        }
      ]
    },
    {
      "cell_type": "code",
      "source": [
        "dataset.columns"
      ],
      "metadata": {
        "colab": {
          "base_uri": "https://localhost:8080/"
        },
        "id": "INWI5vrNquqF",
        "outputId": "baa5b6e5-df6c-4f09-9c19-c82339514f12"
      },
      "execution_count": 7,
      "outputs": [
        {
          "output_type": "execute_result",
          "data": {
            "text/plain": [
              "Index(['city', 'area', 'rooms', 'bathroom', 'parking spaces', 'floor',\n",
              "       'animal', 'furniture', 'hoa (R$)', 'rent amount (R$)',\n",
              "       'property tax (R$)', 'fire insurance (R$)', 'total (R$)'],\n",
              "      dtype='object')"
            ]
          },
          "metadata": {},
          "execution_count": 7
        }
      ]
    },
    {
      "cell_type": "code",
      "source": [
        "dataset.info()"
      ],
      "metadata": {
        "colab": {
          "base_uri": "https://localhost:8080/"
        },
        "id": "-UVTOWNlvXLO",
        "outputId": "167b13f6-cd10-4d07-a4d7-76b20256ac1e"
      },
      "execution_count": 8,
      "outputs": [
        {
          "output_type": "stream",
          "name": "stdout",
          "text": [
            "<class 'pandas.core.frame.DataFrame'>\n",
            "RangeIndex: 10692 entries, 0 to 10691\n",
            "Data columns (total 13 columns):\n",
            " #   Column               Non-Null Count  Dtype \n",
            "---  ------               --------------  ----- \n",
            " 0   city                 10692 non-null  object\n",
            " 1   area                 10692 non-null  int64 \n",
            " 2   rooms                10692 non-null  int64 \n",
            " 3   bathroom             10692 non-null  int64 \n",
            " 4   parking spaces       10692 non-null  int64 \n",
            " 5   floor                10692 non-null  object\n",
            " 6   animal               10692 non-null  object\n",
            " 7   furniture            10692 non-null  object\n",
            " 8   hoa (R$)             10692 non-null  int64 \n",
            " 9   rent amount (R$)     10692 non-null  int64 \n",
            " 10  property tax (R$)    10692 non-null  int64 \n",
            " 11  fire insurance (R$)  10692 non-null  int64 \n",
            " 12  total (R$)           10692 non-null  int64 \n",
            "dtypes: int64(9), object(4)\n",
            "memory usage: 1.1+ MB\n"
          ]
        }
      ]
    },
    {
      "cell_type": "markdown",
      "source": [
        "### Removing unnecessary columns\n",
        "\n",
        "The `fire insurance` and `total` columns are not needed to arrive at an answer. \n"
      ],
      "metadata": {
        "id": "aSBSPUMEr2Im"
      }
    },
    {
      "cell_type": "code",
      "source": [
        "dataset.drop(columns=['fire insurance (R$)', 'total (R$)'], inplace=True)"
      ],
      "metadata": {
        "id": "bkWH3IHZsAyC"
      },
      "execution_count": 9,
      "outputs": []
    },
    {
      "cell_type": "code",
      "source": [
        "dataset.columns"
      ],
      "metadata": {
        "colab": {
          "base_uri": "https://localhost:8080/"
        },
        "id": "Ih0jO3Qitd5B",
        "outputId": "21dd871d-284c-44bb-a41c-fb4ad1efd65a"
      },
      "execution_count": 10,
      "outputs": [
        {
          "output_type": "execute_result",
          "data": {
            "text/plain": [
              "Index(['city', 'area', 'rooms', 'bathroom', 'parking spaces', 'floor',\n",
              "       'animal', 'furniture', 'hoa (R$)', 'rent amount (R$)',\n",
              "       'property tax (R$)'],\n",
              "      dtype='object')"
            ]
          },
          "metadata": {},
          "execution_count": 10
        }
      ]
    },
    {
      "cell_type": "markdown",
      "source": [
        "### Checking empty values\n",
        "\n",
        "You could evaluate first using `isnull` method.\n"
      ],
      "metadata": {
        "id": "-p0OVaxKtwTJ"
      }
    },
    {
      "cell_type": "code",
      "source": [
        "dataset.isnull().sum()"
      ],
      "metadata": {
        "colab": {
          "base_uri": "https://localhost:8080/"
        },
        "id": "mRYLC1W_uJfK",
        "outputId": "5c596eae-0484-411d-fbce-75002c448673"
      },
      "execution_count": 11,
      "outputs": [
        {
          "output_type": "execute_result",
          "data": {
            "text/plain": [
              "city                 0\n",
              "area                 0\n",
              "rooms                0\n",
              "bathroom             0\n",
              "parking spaces       0\n",
              "floor                0\n",
              "animal               0\n",
              "furniture            0\n",
              "hoa (R$)             0\n",
              "rent amount (R$)     0\n",
              "property tax (R$)    0\n",
              "dtype: int64"
            ]
          },
          "metadata": {},
          "execution_count": 11
        }
      ]
    },
    {
      "cell_type": "markdown",
      "source": [],
      "metadata": {
        "id": "tKO4T2khuhye"
      }
    },
    {
      "cell_type": "markdown",
      "source": [
        "There is no empty values.\n"
      ],
      "metadata": {
        "id": "HomsBZ1guYxc"
      }
    },
    {
      "cell_type": "markdown",
      "source": [
        "### Checking unique values\n",
        "\n",
        "You could use `nunique` method."
      ],
      "metadata": {
        "id": "2F0QbZY7ugZg"
      }
    },
    {
      "cell_type": "code",
      "source": [
        "dataset.nunique()"
      ],
      "metadata": {
        "colab": {
          "base_uri": "https://localhost:8080/"
        },
        "id": "fMzkxapauyyT",
        "outputId": "3265e307-c3df-41fc-e6ef-2db2ea8203ef"
      },
      "execution_count": 12,
      "outputs": [
        {
          "output_type": "execute_result",
          "data": {
            "text/plain": [
              "city                    5\n",
              "area                  517\n",
              "rooms                  11\n",
              "bathroom               10\n",
              "parking spaces         11\n",
              "floor                  35\n",
              "animal                  2\n",
              "furniture               2\n",
              "hoa (R$)             1679\n",
              "rent amount (R$)     1195\n",
              "property tax (R$)    1243\n",
              "dtype: int64"
            ]
          },
          "metadata": {},
          "execution_count": 12
        }
      ]
    },
    {
      "cell_type": "markdown",
      "source": [
        "## **Exploratory Data Analisys (EDA**)\n",
        "\n",
        "\n",
        "It means that we'll try to take insights from the data. \n",
        "\n",
        "More concretly, we'll use statistical graphs to identify different patterns, relations, and anomalies in the data.\n"
      ],
      "metadata": {
        "id": "hZUwBr3Lv4P-"
      }
    },
    {
      "cell_type": "markdown",
      "source": [
        "### Spliting between ***Categorical*** and ***Numerical*** columns"
      ],
      "metadata": {
        "id": "5AD4gqdQxMaD"
      }
    },
    {
      "cell_type": "code",
      "source": [
        "categorical_columns = dataset.columns[ dataset.dtypes == object ]\n",
        "print(f'CATEGORICAL columns: ${categorical_columns}\\n\\n')\n",
        "dataset[categorical_columns].head(5)"
      ],
      "metadata": {
        "colab": {
          "base_uri": "https://localhost:8080/",
          "height": 0
        },
        "id": "wURS6_xWxKLS",
        "outputId": "b8d78885-1861-440f-d514-2259a6497bfc"
      },
      "execution_count": 13,
      "outputs": [
        {
          "output_type": "stream",
          "name": "stdout",
          "text": [
            "CATEGORICAL columns: $Index(['city', 'floor', 'animal', 'furniture'], dtype='object')\n",
            "\n",
            "\n"
          ]
        },
        {
          "output_type": "execute_result",
          "data": {
            "text/plain": [
              "           city floor     animal      furniture\n",
              "0     São Paulo     7      acept      furnished\n",
              "1     São Paulo    20      acept  not furnished\n",
              "2  Porto Alegre     6      acept  not furnished\n",
              "3  Porto Alegre     2      acept  not furnished\n",
              "4     São Paulo     1  not acept  not furnished"
            ],
            "text/html": [
              "\n",
              "  <div id=\"df-ad14027f-e78b-4af9-bfdf-808e6cad3a46\">\n",
              "    <div class=\"colab-df-container\">\n",
              "      <div>\n",
              "<style scoped>\n",
              "    .dataframe tbody tr th:only-of-type {\n",
              "        vertical-align: middle;\n",
              "    }\n",
              "\n",
              "    .dataframe tbody tr th {\n",
              "        vertical-align: top;\n",
              "    }\n",
              "\n",
              "    .dataframe thead th {\n",
              "        text-align: right;\n",
              "    }\n",
              "</style>\n",
              "<table border=\"1\" class=\"dataframe\">\n",
              "  <thead>\n",
              "    <tr style=\"text-align: right;\">\n",
              "      <th></th>\n",
              "      <th>city</th>\n",
              "      <th>floor</th>\n",
              "      <th>animal</th>\n",
              "      <th>furniture</th>\n",
              "    </tr>\n",
              "  </thead>\n",
              "  <tbody>\n",
              "    <tr>\n",
              "      <th>0</th>\n",
              "      <td>São Paulo</td>\n",
              "      <td>7</td>\n",
              "      <td>acept</td>\n",
              "      <td>furnished</td>\n",
              "    </tr>\n",
              "    <tr>\n",
              "      <th>1</th>\n",
              "      <td>São Paulo</td>\n",
              "      <td>20</td>\n",
              "      <td>acept</td>\n",
              "      <td>not furnished</td>\n",
              "    </tr>\n",
              "    <tr>\n",
              "      <th>2</th>\n",
              "      <td>Porto Alegre</td>\n",
              "      <td>6</td>\n",
              "      <td>acept</td>\n",
              "      <td>not furnished</td>\n",
              "    </tr>\n",
              "    <tr>\n",
              "      <th>3</th>\n",
              "      <td>Porto Alegre</td>\n",
              "      <td>2</td>\n",
              "      <td>acept</td>\n",
              "      <td>not furnished</td>\n",
              "    </tr>\n",
              "    <tr>\n",
              "      <th>4</th>\n",
              "      <td>São Paulo</td>\n",
              "      <td>1</td>\n",
              "      <td>not acept</td>\n",
              "      <td>not furnished</td>\n",
              "    </tr>\n",
              "  </tbody>\n",
              "</table>\n",
              "</div>\n",
              "      <button class=\"colab-df-convert\" onclick=\"convertToInteractive('df-ad14027f-e78b-4af9-bfdf-808e6cad3a46')\"\n",
              "              title=\"Convert this dataframe to an interactive table.\"\n",
              "              style=\"display:none;\">\n",
              "        \n",
              "  <svg xmlns=\"http://www.w3.org/2000/svg\" height=\"24px\"viewBox=\"0 0 24 24\"\n",
              "       width=\"24px\">\n",
              "    <path d=\"M0 0h24v24H0V0z\" fill=\"none\"/>\n",
              "    <path d=\"M18.56 5.44l.94 2.06.94-2.06 2.06-.94-2.06-.94-.94-2.06-.94 2.06-2.06.94zm-11 1L8.5 8.5l.94-2.06 2.06-.94-2.06-.94L8.5 2.5l-.94 2.06-2.06.94zm10 10l.94 2.06.94-2.06 2.06-.94-2.06-.94-.94-2.06-.94 2.06-2.06.94z\"/><path d=\"M17.41 7.96l-1.37-1.37c-.4-.4-.92-.59-1.43-.59-.52 0-1.04.2-1.43.59L10.3 9.45l-7.72 7.72c-.78.78-.78 2.05 0 2.83L4 21.41c.39.39.9.59 1.41.59.51 0 1.02-.2 1.41-.59l7.78-7.78 2.81-2.81c.8-.78.8-2.07 0-2.86zM5.41 20L4 18.59l7.72-7.72 1.47 1.35L5.41 20z\"/>\n",
              "  </svg>\n",
              "      </button>\n",
              "      \n",
              "  <style>\n",
              "    .colab-df-container {\n",
              "      display:flex;\n",
              "      flex-wrap:wrap;\n",
              "      gap: 12px;\n",
              "    }\n",
              "\n",
              "    .colab-df-convert {\n",
              "      background-color: #E8F0FE;\n",
              "      border: none;\n",
              "      border-radius: 50%;\n",
              "      cursor: pointer;\n",
              "      display: none;\n",
              "      fill: #1967D2;\n",
              "      height: 32px;\n",
              "      padding: 0 0 0 0;\n",
              "      width: 32px;\n",
              "    }\n",
              "\n",
              "    .colab-df-convert:hover {\n",
              "      background-color: #E2EBFA;\n",
              "      box-shadow: 0px 1px 2px rgba(60, 64, 67, 0.3), 0px 1px 3px 1px rgba(60, 64, 67, 0.15);\n",
              "      fill: #174EA6;\n",
              "    }\n",
              "\n",
              "    [theme=dark] .colab-df-convert {\n",
              "      background-color: #3B4455;\n",
              "      fill: #D2E3FC;\n",
              "    }\n",
              "\n",
              "    [theme=dark] .colab-df-convert:hover {\n",
              "      background-color: #434B5C;\n",
              "      box-shadow: 0px 1px 3px 1px rgba(0, 0, 0, 0.15);\n",
              "      filter: drop-shadow(0px 1px 2px rgba(0, 0, 0, 0.3));\n",
              "      fill: #FFFFFF;\n",
              "    }\n",
              "  </style>\n",
              "\n",
              "      <script>\n",
              "        const buttonEl =\n",
              "          document.querySelector('#df-ad14027f-e78b-4af9-bfdf-808e6cad3a46 button.colab-df-convert');\n",
              "        buttonEl.style.display =\n",
              "          google.colab.kernel.accessAllowed ? 'block' : 'none';\n",
              "\n",
              "        async function convertToInteractive(key) {\n",
              "          const element = document.querySelector('#df-ad14027f-e78b-4af9-bfdf-808e6cad3a46');\n",
              "          const dataTable =\n",
              "            await google.colab.kernel.invokeFunction('convertToInteractive',\n",
              "                                                     [key], {});\n",
              "          if (!dataTable) return;\n",
              "\n",
              "          const docLinkHtml = 'Like what you see? Visit the ' +\n",
              "            '<a target=\"_blank\" href=https://colab.research.google.com/notebooks/data_table.ipynb>data table notebook</a>'\n",
              "            + ' to learn more about interactive tables.';\n",
              "          element.innerHTML = '';\n",
              "          dataTable['output_type'] = 'display_data';\n",
              "          await google.colab.output.renderOutput(dataTable, element);\n",
              "          const docLink = document.createElement('div');\n",
              "          docLink.innerHTML = docLinkHtml;\n",
              "          element.appendChild(docLink);\n",
              "        }\n",
              "      </script>\n",
              "    </div>\n",
              "  </div>\n",
              "  "
            ]
          },
          "metadata": {},
          "execution_count": 13
        }
      ]
    },
    {
      "cell_type": "code",
      "source": [
        "numerical_columns = dataset.columns[ dataset.dtypes == 'int64' ]\n",
        "print(f'NUMERICAL columns: ${numerical_columns}\\n\\n')\n",
        "dataset[numerical_columns].head(5)"
      ],
      "metadata": {
        "colab": {
          "base_uri": "https://localhost:8080/",
          "height": 0
        },
        "id": "rSPClXnax7pK",
        "outputId": "b1cc6be8-62bf-4d9b-938e-81b5cf04f9ff"
      },
      "execution_count": 14,
      "outputs": [
        {
          "output_type": "stream",
          "name": "stdout",
          "text": [
            "NUMERICAL columns: $Index(['area', 'rooms', 'bathroom', 'parking spaces', 'hoa (R$)',\n",
            "       'rent amount (R$)', 'property tax (R$)'],\n",
            "      dtype='object')\n",
            "\n",
            "\n"
          ]
        },
        {
          "output_type": "execute_result",
          "data": {
            "text/plain": [
              "   area  rooms  bathroom  parking spaces  hoa (R$)  rent amount (R$)  \\\n",
              "0    70      2         1               1      2065              3300   \n",
              "1   320      4         4               0      1200              4960   \n",
              "2    80      1         1               1      1000              2800   \n",
              "3    51      2         1               0       270              1112   \n",
              "4    25      1         1               0         0               800   \n",
              "\n",
              "   property tax (R$)  \n",
              "0                211  \n",
              "1               1750  \n",
              "2                  0  \n",
              "3                 22  \n",
              "4                 25  "
            ],
            "text/html": [
              "\n",
              "  <div id=\"df-32853eaa-29db-4b5b-9722-90cc04303a42\">\n",
              "    <div class=\"colab-df-container\">\n",
              "      <div>\n",
              "<style scoped>\n",
              "    .dataframe tbody tr th:only-of-type {\n",
              "        vertical-align: middle;\n",
              "    }\n",
              "\n",
              "    .dataframe tbody tr th {\n",
              "        vertical-align: top;\n",
              "    }\n",
              "\n",
              "    .dataframe thead th {\n",
              "        text-align: right;\n",
              "    }\n",
              "</style>\n",
              "<table border=\"1\" class=\"dataframe\">\n",
              "  <thead>\n",
              "    <tr style=\"text-align: right;\">\n",
              "      <th></th>\n",
              "      <th>area</th>\n",
              "      <th>rooms</th>\n",
              "      <th>bathroom</th>\n",
              "      <th>parking spaces</th>\n",
              "      <th>hoa (R$)</th>\n",
              "      <th>rent amount (R$)</th>\n",
              "      <th>property tax (R$)</th>\n",
              "    </tr>\n",
              "  </thead>\n",
              "  <tbody>\n",
              "    <tr>\n",
              "      <th>0</th>\n",
              "      <td>70</td>\n",
              "      <td>2</td>\n",
              "      <td>1</td>\n",
              "      <td>1</td>\n",
              "      <td>2065</td>\n",
              "      <td>3300</td>\n",
              "      <td>211</td>\n",
              "    </tr>\n",
              "    <tr>\n",
              "      <th>1</th>\n",
              "      <td>320</td>\n",
              "      <td>4</td>\n",
              "      <td>4</td>\n",
              "      <td>0</td>\n",
              "      <td>1200</td>\n",
              "      <td>4960</td>\n",
              "      <td>1750</td>\n",
              "    </tr>\n",
              "    <tr>\n",
              "      <th>2</th>\n",
              "      <td>80</td>\n",
              "      <td>1</td>\n",
              "      <td>1</td>\n",
              "      <td>1</td>\n",
              "      <td>1000</td>\n",
              "      <td>2800</td>\n",
              "      <td>0</td>\n",
              "    </tr>\n",
              "    <tr>\n",
              "      <th>3</th>\n",
              "      <td>51</td>\n",
              "      <td>2</td>\n",
              "      <td>1</td>\n",
              "      <td>0</td>\n",
              "      <td>270</td>\n",
              "      <td>1112</td>\n",
              "      <td>22</td>\n",
              "    </tr>\n",
              "    <tr>\n",
              "      <th>4</th>\n",
              "      <td>25</td>\n",
              "      <td>1</td>\n",
              "      <td>1</td>\n",
              "      <td>0</td>\n",
              "      <td>0</td>\n",
              "      <td>800</td>\n",
              "      <td>25</td>\n",
              "    </tr>\n",
              "  </tbody>\n",
              "</table>\n",
              "</div>\n",
              "      <button class=\"colab-df-convert\" onclick=\"convertToInteractive('df-32853eaa-29db-4b5b-9722-90cc04303a42')\"\n",
              "              title=\"Convert this dataframe to an interactive table.\"\n",
              "              style=\"display:none;\">\n",
              "        \n",
              "  <svg xmlns=\"http://www.w3.org/2000/svg\" height=\"24px\"viewBox=\"0 0 24 24\"\n",
              "       width=\"24px\">\n",
              "    <path d=\"M0 0h24v24H0V0z\" fill=\"none\"/>\n",
              "    <path d=\"M18.56 5.44l.94 2.06.94-2.06 2.06-.94-2.06-.94-.94-2.06-.94 2.06-2.06.94zm-11 1L8.5 8.5l.94-2.06 2.06-.94-2.06-.94L8.5 2.5l-.94 2.06-2.06.94zm10 10l.94 2.06.94-2.06 2.06-.94-2.06-.94-.94-2.06-.94 2.06-2.06.94z\"/><path d=\"M17.41 7.96l-1.37-1.37c-.4-.4-.92-.59-1.43-.59-.52 0-1.04.2-1.43.59L10.3 9.45l-7.72 7.72c-.78.78-.78 2.05 0 2.83L4 21.41c.39.39.9.59 1.41.59.51 0 1.02-.2 1.41-.59l7.78-7.78 2.81-2.81c.8-.78.8-2.07 0-2.86zM5.41 20L4 18.59l7.72-7.72 1.47 1.35L5.41 20z\"/>\n",
              "  </svg>\n",
              "      </button>\n",
              "      \n",
              "  <style>\n",
              "    .colab-df-container {\n",
              "      display:flex;\n",
              "      flex-wrap:wrap;\n",
              "      gap: 12px;\n",
              "    }\n",
              "\n",
              "    .colab-df-convert {\n",
              "      background-color: #E8F0FE;\n",
              "      border: none;\n",
              "      border-radius: 50%;\n",
              "      cursor: pointer;\n",
              "      display: none;\n",
              "      fill: #1967D2;\n",
              "      height: 32px;\n",
              "      padding: 0 0 0 0;\n",
              "      width: 32px;\n",
              "    }\n",
              "\n",
              "    .colab-df-convert:hover {\n",
              "      background-color: #E2EBFA;\n",
              "      box-shadow: 0px 1px 2px rgba(60, 64, 67, 0.3), 0px 1px 3px 1px rgba(60, 64, 67, 0.15);\n",
              "      fill: #174EA6;\n",
              "    }\n",
              "\n",
              "    [theme=dark] .colab-df-convert {\n",
              "      background-color: #3B4455;\n",
              "      fill: #D2E3FC;\n",
              "    }\n",
              "\n",
              "    [theme=dark] .colab-df-convert:hover {\n",
              "      background-color: #434B5C;\n",
              "      box-shadow: 0px 1px 3px 1px rgba(0, 0, 0, 0.15);\n",
              "      filter: drop-shadow(0px 1px 2px rgba(0, 0, 0, 0.3));\n",
              "      fill: #FFFFFF;\n",
              "    }\n",
              "  </style>\n",
              "\n",
              "      <script>\n",
              "        const buttonEl =\n",
              "          document.querySelector('#df-32853eaa-29db-4b5b-9722-90cc04303a42 button.colab-df-convert');\n",
              "        buttonEl.style.display =\n",
              "          google.colab.kernel.accessAllowed ? 'block' : 'none';\n",
              "\n",
              "        async function convertToInteractive(key) {\n",
              "          const element = document.querySelector('#df-32853eaa-29db-4b5b-9722-90cc04303a42');\n",
              "          const dataTable =\n",
              "            await google.colab.kernel.invokeFunction('convertToInteractive',\n",
              "                                                     [key], {});\n",
              "          if (!dataTable) return;\n",
              "\n",
              "          const docLinkHtml = 'Like what you see? Visit the ' +\n",
              "            '<a target=\"_blank\" href=https://colab.research.google.com/notebooks/data_table.ipynb>data table notebook</a>'\n",
              "            + ' to learn more about interactive tables.';\n",
              "          element.innerHTML = '';\n",
              "          dataTable['output_type'] = 'display_data';\n",
              "          await google.colab.output.renderOutput(dataTable, element);\n",
              "          const docLink = document.createElement('div');\n",
              "          docLink.innerHTML = docLinkHtml;\n",
              "          element.appendChild(docLink);\n",
              "        }\n",
              "      </script>\n",
              "    </div>\n",
              "  </div>\n",
              "  "
            ]
          },
          "metadata": {},
          "execution_count": 14
        }
      ]
    },
    {
      "cell_type": "markdown",
      "source": [
        "### Analysing ***Categorical*** columns"
      ],
      "metadata": {
        "id": "BhSXklzp0j68"
      }
    },
    {
      "cell_type": "code",
      "source": [
        "for categorical_column in categorical_columns:\n",
        "  print(f'COLUMN: {categorical_column}')\n",
        "  print( dataset[categorical_column].value_counts(normalize=True) * 100 )\n",
        "  print('\\n')"
      ],
      "metadata": {
        "colab": {
          "base_uri": "https://localhost:8080/"
        },
        "id": "UyL11i-k7egk",
        "outputId": "c3dba109-b8fe-4819-c869-b9770238a56e"
      },
      "execution_count": 15,
      "outputs": [
        {
          "output_type": "stream",
          "name": "stdout",
          "text": [
            "COLUMN: city\n",
            "São Paulo         55.059858\n",
            "Rio de Janeiro    14.038533\n",
            "Belo Horizonte    11.765806\n",
            "Porto Alegre      11.157875\n",
            "Campinas           7.977927\n",
            "Name: city, dtype: float64\n",
            "\n",
            "\n",
            "COLUMN: floor\n",
            "-      23.017209\n",
            "1      10.110363\n",
            "2       9.212495\n",
            "3       8.707445\n",
            "4       6.995885\n",
            "5       5.611672\n",
            "6       5.041152\n",
            "7       4.648335\n",
            "8       4.582866\n",
            "9       3.451178\n",
            "10      3.338945\n",
            "11      2.833895\n",
            "12      2.403666\n",
            "13      1.870557\n",
            "14      1.589974\n",
            "15      1.374860\n",
            "16      1.019454\n",
            "17      0.897868\n",
            "18      0.701459\n",
            "19      0.495698\n",
            "20      0.411523\n",
            "21      0.392817\n",
            "25      0.233820\n",
            "23      0.233820\n",
            "22      0.224467\n",
            "26      0.187056\n",
            "24      0.177703\n",
            "27      0.074822\n",
            "28      0.056117\n",
            "29      0.046764\n",
            "32      0.018706\n",
            "35      0.009353\n",
            "46      0.009353\n",
            "301     0.009353\n",
            "51      0.009353\n",
            "Name: floor, dtype: float64\n",
            "\n",
            "\n",
            "COLUMN: animal\n",
            "acept        77.777778\n",
            "not acept    22.222222\n",
            "Name: animal, dtype: float64\n",
            "\n",
            "\n",
            "COLUMN: furniture\n",
            "not furnished    75.626637\n",
            "furnished        24.373363\n",
            "Name: furniture, dtype: float64\n",
            "\n",
            "\n"
          ]
        }
      ]
    },
    {
      "cell_type": "markdown",
      "source": [
        "We identified some errors: there is `-` and `301` floor. We can use `loc` method to find these rows. We can also use `iloc` to change the value of theses rows."
      ],
      "metadata": {
        "id": "VVDLmXWU9rwz"
      }
    },
    {
      "cell_type": "code",
      "source": [
        "dataset.loc[dataset.floor == '301']\n",
        "dataset.iloc[2562, 5] = '30'\n",
        "print(f'After fixed...\\n\\n {dataset.loc[dataset.floor == \"301\"]}')"
      ],
      "metadata": {
        "colab": {
          "base_uri": "https://localhost:8080/"
        },
        "id": "Yl4d2oGk_60m",
        "outputId": "9175e798-709d-4b51-8228-0afc0e5be0b1"
      },
      "execution_count": 16,
      "outputs": [
        {
          "output_type": "stream",
          "name": "stdout",
          "text": [
            "After fixed...\n",
            "\n",
            " Empty DataFrame\n",
            "Columns: [city, area, rooms, bathroom, parking spaces, floor, animal, furniture, hoa (R$), rent amount (R$), property tax (R$)]\n",
            "Index: []\n"
          ]
        }
      ]
    },
    {
      "cell_type": "code",
      "source": [
        "print (dataset.loc[dataset.floor == '-'])\n",
        "\n",
        "print( \"\\n\\nApplying function...\\n\")\n",
        "dataset['floor']= dataset.floor.apply( lambda actual_floor: 0 if(actual_floor ==\"-\" ) else actual_floor)\n",
        "print (dataset.loc[dataset.floor == '-'])\n"
      ],
      "metadata": {
        "colab": {
          "base_uri": "https://localhost:8080/"
        },
        "id": "lx8xacbQ992P",
        "outputId": "55b2ad08-bdcc-4c67-c6f2-cfe9128a7a6a"
      },
      "execution_count": 17,
      "outputs": [
        {
          "output_type": "stream",
          "name": "stdout",
          "text": [
            "                 city  area  rooms  bathroom  parking spaces floor animal  \\\n",
            "5           São Paulo   376      3         3               7     -  acept   \n",
            "15           Campinas   330      4         6               6     -  acept   \n",
            "19          São Paulo   600      4         5               6     -  acept   \n",
            "20          São Paulo   100      7         4               0     -  acept   \n",
            "23          São Paulo    35      1         1               0     -  acept   \n",
            "...               ...   ...    ...       ...             ...   ...    ...   \n",
            "10659        Campinas   150      3         2               4     -  acept   \n",
            "10661        Campinas   250      1         2               2     -  acept   \n",
            "10668       São Paulo    24      1         1               0     -  acept   \n",
            "10674  Rio de Janeiro   135      4         2               1     -  acept   \n",
            "10691       São Paulo    80      2         1               0     -  acept   \n",
            "\n",
            "           furniture  hoa (R$)  rent amount (R$)  property tax (R$)  \n",
            "5      not furnished         0              8000                834  \n",
            "15         furnished       680              8000                328  \n",
            "19     not furnished         0             12000               9500  \n",
            "20     not furnished         0              3800                118  \n",
            "23     not furnished         0              1100                  3  \n",
            "...              ...       ...               ...                ...  \n",
            "10659      furnished         0              3500                186  \n",
            "10661  not furnished         0              2200                602  \n",
            "10668  not furnished         0               870                  0  \n",
            "10674  not furnished         0              3300                115  \n",
            "10691  not furnished         0              1400                165  \n",
            "\n",
            "[2461 rows x 11 columns]\n",
            "\n",
            "\n",
            "Applying function...\n",
            "\n",
            "Empty DataFrame\n",
            "Columns: [city, area, rooms, bathroom, parking spaces, floor, animal, furniture, hoa (R$), rent amount (R$), property tax (R$)]\n",
            "Index: []\n"
          ]
        }
      ]
    },
    {
      "cell_type": "markdown",
      "source": [
        "Although we cleaned the `floor` column, we need to convert from `object` to `integer`. We can do this using `pd.to_numeric` method."
      ],
      "metadata": {
        "id": "oD5MKfPKHIFw"
      }
    },
    {
      "cell_type": "code",
      "source": [
        "dataset['floor'] = pd.to_numeric(dataset['floor'])\n",
        "dataset.info()"
      ],
      "metadata": {
        "colab": {
          "base_uri": "https://localhost:8080/"
        },
        "id": "S3G5z4zFHAnm",
        "outputId": "d1d71d59-0926-4669-f733-d7025dff414b"
      },
      "execution_count": 18,
      "outputs": [
        {
          "output_type": "stream",
          "name": "stdout",
          "text": [
            "<class 'pandas.core.frame.DataFrame'>\n",
            "RangeIndex: 10692 entries, 0 to 10691\n",
            "Data columns (total 11 columns):\n",
            " #   Column             Non-Null Count  Dtype \n",
            "---  ------             --------------  ----- \n",
            " 0   city               10692 non-null  object\n",
            " 1   area               10692 non-null  int64 \n",
            " 2   rooms              10692 non-null  int64 \n",
            " 3   bathroom           10692 non-null  int64 \n",
            " 4   parking spaces     10692 non-null  int64 \n",
            " 5   floor              10692 non-null  int64 \n",
            " 6   animal             10692 non-null  object\n",
            " 7   furniture          10692 non-null  object\n",
            " 8   hoa (R$)           10692 non-null  int64 \n",
            " 9   rent amount (R$)   10692 non-null  int64 \n",
            " 10  property tax (R$)  10692 non-null  int64 \n",
            "dtypes: int64(8), object(3)\n",
            "memory usage: 919.0+ KB\n"
          ]
        }
      ]
    },
    {
      "cell_type": "markdown",
      "source": [
        "### Analysing ***Numerical*** columns"
      ],
      "metadata": {
        "id": "3vKpiwj5IXKd"
      }
    },
    {
      "cell_type": "code",
      "source": [
        "fig, axios = plt.subplots( figsize=(20, 30))\n",
        "\n",
        "background_color = '#f5f5f5'\n",
        "fig.set_facecolor(background_color)\n",
        "\n",
        "color_palette = sns.color_palette('flare', len(numerical_columns)  * 2)\n",
        "\n",
        "title = 'Analysing NUMERICAL columns'\n",
        "plt.suptitle(title, fontsize=22, color='#404040', fontweight=600)\n",
        "\n",
        "\n",
        "number_rows = len(numerical_columns)            ## We will have a row for each dataset column\n",
        "number_columns = 2                              ## Boxplot + Distplot for each row\n",
        "position = 1                                    ## Initial position\n",
        "\n",
        "\n",
        "for actual_column in numerical_columns:\n",
        "  \n",
        "  ## BLOXPLOT\n",
        "  plt.subplot(number_rows, number_columns, position)\n",
        "  plt.title( f'{actual_column}', loc='left', fontsize=15, fontweight=300)\n",
        "  sns.boxplot(data=dataset, y=actual_column, showmeans=True, saturation=0.65, linewidth=1, color=color_palette[position], width=0.25)\n",
        "  position += 1\n",
        "  \n",
        "  ## DISTPLOT\n",
        "  plt.subplot(number_rows, number_columns, position)\n",
        "  plt.title( f'{actual_column}', loc='left', fontsize=15, fontweight=300)\n",
        "  sns.distplot(dataset[actual_column], color=color_palette[position - 1])\n",
        "  position += 1\n",
        "  \n",
        "  plt.subplots_adjust(top=0.95, hspace=0.3)\n"
      ],
      "metadata": {
        "colab": {
          "base_uri": "https://localhost:8080/",
          "height": 1000
        },
        "id": "fwMAqRxqIbq_",
        "outputId": "45e1ac90-6fd4-40b1-f864-782f2d5bf7f9"
      },
      "execution_count": 19,
      "outputs": [
        {
          "output_type": "display_data",
          "data": {
            "text/plain": [
              "<Figure size 1440x2160 with 14 Axes>"
            ],
            "image/png": "[encoded data removed]"
          },
          "metadata": {}
        }
      ]
    },
    {
      "cell_type": "markdown",
      "source": [
        "When we analyse **area** column, we could identify some outliners. Most of house areas are concentred less than 10.000m². We could filter these outliners but we will analyse it first."
      ],
      "metadata": {
        "id": "aRAJaNHXCSbM"
      }
    },
    {
      "cell_type": "code",
      "source": [
        "dataset.loc[ dataset.area <= 10000][\"area\"].describe()"
      ],
      "metadata": {
        "colab": {
          "base_uri": "https://localhost:8080/"
        },
        "id": "SMHb2ZmpCxNA",
        "outputId": "c219d69a-466a-49eb-8530-1aecfe7ac094"
      },
      "execution_count": 30,
      "outputs": [
        {
          "output_type": "execute_result",
          "data": {
            "text/plain": [
              "count    10689.000000\n",
              "mean       141.431846\n",
              "std        134.348219\n",
              "min         11.000000\n",
              "25%         56.000000\n",
              "50%         90.000000\n",
              "75%        182.000000\n",
              "max       2000.000000\n",
              "Name: area, dtype: float64"
            ]
          },
          "metadata": {},
          "execution_count": 30
        }
      ]
    },
    {
      "cell_type": "markdown",
      "source": [
        "We can notice 75% of house area is less than 200m²."
      ],
      "metadata": {
        "id": "alJA2SJaEphs"
      }
    },
    {
      "cell_type": "markdown",
      "source": [
        "We also identified some unfamiliar distribution in **hoa**. We will try to analysis more."
      ],
      "metadata": {
        "id": "GwslrA-tHHij"
      }
    },
    {
      "cell_type": "code",
      "source": [
        "dataset[\"hoa (R$)\"].describe()"
      ],
      "metadata": {
        "colab": {
          "base_uri": "https://localhost:8080/"
        },
        "id": "2H1MS0TQHRmS",
        "outputId": "3e1ae152-dcac-40d1-fd19-d248d07fb5f7"
      },
      "execution_count": 41,
      "outputs": [
        {
          "output_type": "execute_result",
          "data": {
            "text/plain": [
              "count    1.069200e+04\n",
              "mean     1.174022e+03\n",
              "std      1.559231e+04\n",
              "min      0.000000e+00\n",
              "25%      1.700000e+02\n",
              "50%      5.600000e+02\n",
              "75%      1.237500e+03\n",
              "max      1.117000e+06\n",
              "Name: hoa (R$), dtype: float64"
            ]
          },
          "metadata": {},
          "execution_count": 41
        }
      ]
    },
    {
      "cell_type": "code",
      "source": [
        "dataset[\"hoa (R$)\"].sort_values(ascending=False).head(20)"
      ],
      "metadata": {
        "colab": {
          "base_uri": "https://localhost:8080/"
        },
        "id": "6DXIEZLyKHhf",
        "outputId": "626dd178-16fe-429e-b279-850b8a9adb98"
      },
      "execution_count": 53,
      "outputs": [
        {
          "output_type": "execute_result",
          "data": {
            "text/plain": [
              "255      1117000\n",
              "6979     1117000\n",
              "6230      220000\n",
              "2859      200000\n",
              "2928       81150\n",
              "1444       32000\n",
              "1213       15000\n",
              "415        14130\n",
              "5293       14000\n",
              "8858       10000\n",
              "974        10000\n",
              "547         9900\n",
              "7020        9500\n",
              "7679        9000\n",
              "1862        8600\n",
              "6185        8500\n",
              "1072        8500\n",
              "10184       8362\n",
              "254         8300\n",
              "722         8133\n",
              "Name: hoa (R$), dtype: int64"
            ]
          },
          "metadata": {},
          "execution_count": 53
        }
      ]
    },
    {
      "cell_type": "code",
      "source": [
        "dataset.iloc[255]"
      ],
      "metadata": {
        "colab": {
          "base_uri": "https://localhost:8080/"
        },
        "id": "gZbIbEIbH7vm",
        "outputId": "210cf862-3e50-4fca-b24c-05600300870b"
      },
      "execution_count": 45,
      "outputs": [
        {
          "output_type": "execute_result",
          "data": {
            "text/plain": [
              "city                 Belo Horizonte\n",
              "area                            155\n",
              "rooms                             1\n",
              "bathroom                          4\n",
              "parking spaces                    0\n",
              "floor                             4\n",
              "animal                    not acept\n",
              "furniture             not furnished\n",
              "hoa (R$)                    1117000\n",
              "rent amount (R$)               2790\n",
              "property tax (R$)                64\n",
              "Name: 255, dtype: object"
            ]
          },
          "metadata": {},
          "execution_count": 45
        }
      ]
    },
    {
      "cell_type": "markdown",
      "source": [
        "When we look at the first element, at position 255, we can see that these **hoa** value ​​don't make sense."
      ],
      "metadata": {
        "id": "LC7Ya8-YKEKI"
      }
    },
    {
      "cell_type": "code",
      "source": [
        "dataset.iloc[722]"
      ],
      "metadata": {
        "colab": {
          "base_uri": "https://localhost:8080/"
        },
        "id": "-lncCbFeUWWH",
        "outputId": "88868b61-7c19-4e69-86e3-f6c7628a9244"
      },
      "execution_count": 54,
      "outputs": [
        {
          "output_type": "execute_result",
          "data": {
            "text/plain": [
              "city                     São Paulo\n",
              "area                           620\n",
              "rooms                            4\n",
              "bathroom                         6\n",
              "parking spaces                   4\n",
              "floor                            1\n",
              "animal                       acept\n",
              "furniture            not furnished\n",
              "hoa (R$)                      8133\n",
              "rent amount (R$)             15000\n",
              "property tax (R$)             4520\n",
              "Name: 722, dtype: object"
            ]
          },
          "metadata": {},
          "execution_count": 54
        }
      ]
    },
    {
      "cell_type": "markdown",
      "source": [
        "We empirically identify that the 20th row has a hoa that makes sense. I should refine this by identifying from each line these errors start."
      ],
      "metadata": {
        "id": "gudQnTjeU4VN"
      }
    },
    {
      "cell_type": "code",
      "source": [
        "dataset.iloc[7020]"
      ],
      "metadata": {
        "colab": {
          "base_uri": "https://localhost:8080/"
        },
        "id": "zfjwpO9HWDOO",
        "outputId": "e052df0a-0c3a-49b3-8a1e-68b7aeb4b244"
      },
      "execution_count": 59,
      "outputs": [
        {
          "output_type": "execute_result",
          "data": {
            "text/plain": [
              "city                     São Paulo\n",
              "area                           224\n",
              "rooms                            4\n",
              "bathroom                         5\n",
              "parking spaces                   3\n",
              "floor                           12\n",
              "animal                       acept\n",
              "furniture            not furnished\n",
              "hoa (R$)                      9500\n",
              "rent amount (R$)              9500\n",
              "property tax (R$)             1650\n",
              "Name: 7020, dtype: object"
            ]
          },
          "metadata": {},
          "execution_count": 59
        }
      ]
    },
    {
      "cell_type": "markdown",
      "source": [
        "We'll do a similar analysis on `rent amount (R$)`."
      ],
      "metadata": {
        "id": "XAMRYWv0hCN2"
      }
    },
    {
      "cell_type": "code",
      "source": [
        "dataset[\"rent amount (R$)\"].value_counts(ascending=False).head(20)"
      ],
      "metadata": {
        "colab": {
          "base_uri": "https://localhost:8080/"
        },
        "id": "6xUZK1_8hQme",
        "outputId": "bbf0d203-d6b5-42a0-bdf1-0a9880f90113"
      },
      "execution_count": 64,
      "outputs": [
        {
          "output_type": "execute_result",
          "data": {
            "text/plain": [
              "2500     258\n",
              "2000     244\n",
              "1200     237\n",
              "3000     235\n",
              "15000    231\n",
              "3500     216\n",
              "1800     215\n",
              "1500     211\n",
              "4000     202\n",
              "2200     201\n",
              "1100     201\n",
              "4500     182\n",
              "6000     179\n",
              "5000     178\n",
              "1300     177\n",
              "1600     172\n",
              "8000     168\n",
              "1000     167\n",
              "2800     147\n",
              "10000    142\n",
              "Name: rent amount (R$), dtype: int64"
            ]
          },
          "metadata": {},
          "execution_count": 64
        }
      ]
    },
    {
      "cell_type": "code",
      "source": [
        "dataset.loc[dataset[\"rent amount (R$)\"] < 20000][\"rent amount (R$)\"].describe()"
      ],
      "metadata": {
        "colab": {
          "base_uri": "https://localhost:8080/"
        },
        "id": "Ebr51Bnei6nB",
        "outputId": "0d5a4bac-9d85-418c-82f3-63956eaac4e6"
      },
      "execution_count": 67,
      "outputs": [
        {
          "output_type": "execute_result",
          "data": {
            "text/plain": [
              "count    10683.000000\n",
              "mean      3878.561734\n",
              "std       3347.355302\n",
              "min        450.000000\n",
              "25%       1529.500000\n",
              "50%       2650.000000\n",
              "75%       5000.000000\n",
              "max      19500.000000\n",
              "Name: rent amount (R$), dtype: float64"
            ]
          },
          "metadata": {},
          "execution_count": 67
        }
      ]
    },
    {
      "cell_type": "markdown",
      "source": [
        "From these description, we can see that most of our **rent amount** are less then R$5.000,00."
      ],
      "metadata": {
        "id": "ptj7o_PWlpJV"
      }
    },
    {
      "cell_type": "markdown",
      "source": [
        "We will analysis **property tax** column now."
      ],
      "metadata": {
        "id": "jZ2Q3RaEtapq"
      }
    },
    {
      "cell_type": "code",
      "source": [
        "dataset[\"property tax (R$)\"].sort_values(ascending=False).head(10)"
      ],
      "metadata": {
        "colab": {
          "base_uri": "https://localhost:8080/"
        },
        "id": "w9wK3CSitDHZ",
        "outputId": "3db2254a-a2da-4f61-e297-fc4c38daeb84"
      },
      "execution_count": 68,
      "outputs": [
        {
          "output_type": "execute_result",
          "data": {
            "text/plain": [
              "6645     313700\n",
              "6243      28120\n",
              "1699      21880\n",
              "10172     12500\n",
              "5331      10830\n",
              "2928       9900\n",
              "7674       9500\n",
              "19         9500\n",
              "8187       8750\n",
              "2182       8750\n",
              "Name: property tax (R$), dtype: int64"
            ]
          },
          "metadata": {},
          "execution_count": 68
        }
      ]
    },
    {
      "cell_type": "code",
      "source": [
        "dataset.iloc[6645]"
      ],
      "metadata": {
        "colab": {
          "base_uri": "https://localhost:8080/"
        },
        "id": "QNpurPfetirx",
        "outputId": "c0c9ecec-e42d-46f4-e4a3-1115e214a941"
      },
      "execution_count": 69,
      "outputs": [
        {
          "output_type": "execute_result",
          "data": {
            "text/plain": [
              "city                     São Paulo\n",
              "area                            42\n",
              "rooms                            1\n",
              "bathroom                         2\n",
              "parking spaces                   1\n",
              "floor                            6\n",
              "animal                   not acept\n",
              "furniture            not furnished\n",
              "hoa (R$)                       690\n",
              "rent amount (R$)              2500\n",
              "property tax (R$)           313700\n",
              "Name: 6645, dtype: object"
            ]
          },
          "metadata": {},
          "execution_count": 69
        }
      ]
    },
    {
      "cell_type": "markdown",
      "source": [
        "We came to the conclusion that these **property tax** doesn't make sense because it's just a house with 42m²."
      ],
      "metadata": {
        "id": "qBnH-XgptzRs"
      }
    },
    {
      "cell_type": "markdown",
      "source": [
        "## **Feature Engineering**\n",
        "\n",
        "It includes *selecting*, *transforming*, and *creating* features to be employed on the ML model. \n",
        "\n",
        "  \n",
        "\n",
        "\n",
        "*   **Overfitting**: Good result on training dataset, but bad result on test dataset.\n",
        "*   **Underfitting**: Bad result on training and test dataset. (***TERRIBLE!***) \n",
        "\n"
      ],
      "metadata": {
        "id": "RqVPtNX8vBll"
      }
    },
    {
      "cell_type": "markdown",
      "source": [
        "### Adjusting ***Categorical*** columns"
      ],
      "metadata": {
        "id": "vZrZkyKJ2Et-"
      }
    },
    {
      "cell_type": "code",
      "source": [
        "categorical_columns"
      ],
      "metadata": {
        "id": "FoTwGo2XxNa_",
        "outputId": "7a7ab8b7-d6c8-4162-e307-f2a90f11c849",
        "colab": {
          "base_uri": "https://localhost:8080/"
        }
      },
      "execution_count": 70,
      "outputs": [
        {
          "output_type": "execute_result",
          "data": {
            "text/plain": [
              "Index(['city', 'floor', 'animal', 'furniture'], dtype='object')"
            ]
          },
          "metadata": {},
          "execution_count": 70
        }
      ]
    },
    {
      "cell_type": "markdown",
      "source": [
        "We'll only use **animal** and **furniture** columns. But I need to change to numbers, where I can input into my ML model. I'll be starting with **animal** column."
      ],
      "metadata": {
        "id": "vP7C1Fba3qaP"
      }
    },
    {
      "cell_type": "code",
      "source": [
        "dataset[\"animal\"].value_counts()"
      ],
      "metadata": {
        "id": "lPSvr81P38SE",
        "outputId": "d89a593b-7670-40a6-9319-acdc536b4cde",
        "colab": {
          "base_uri": "https://localhost:8080/"
        }
      },
      "execution_count": 71,
      "outputs": [
        {
          "output_type": "execute_result",
          "data": {
            "text/plain": [
              "acept        8316\n",
              "not acept    2376\n",
              "Name: animal, dtype: int64"
            ]
          },
          "metadata": {},
          "execution_count": 71
        }
      ]
    },
    {
      "cell_type": "markdown",
      "source": [
        "I'll be using `map` method, where 1 means **acept** and 0 means **not acept**."
      ],
      "metadata": {
        "id": "6JjCs4CU4Rr_"
      }
    },
    {
      "cell_type": "code",
      "source": [
        "dataset[\"animal\"].map({\"acept\":1, \"not acept\": 0})"
      ],
      "metadata": {
        "id": "OtRhMnsH4JhO",
        "outputId": "1d4e803e-80cd-4088-e558-a4b59e2e4565",
        "colab": {
          "base_uri": "https://localhost:8080/"
        }
      },
      "execution_count": 72,
      "outputs": [
        {
          "output_type": "execute_result",
          "data": {
            "text/plain": [
              "0        1\n",
              "1        1\n",
              "2        1\n",
              "3        1\n",
              "4        0\n",
              "        ..\n",
              "10687    0\n",
              "10688    1\n",
              "10689    0\n",
              "10690    1\n",
              "10691    1\n",
              "Name: animal, Length: 10692, dtype: int64"
            ]
          },
          "metadata": {},
          "execution_count": 72
        }
      ]
    },
    {
      "cell_type": "markdown",
      "source": [
        "Now, i'll doing something similar to **furniture** column, where 1 means **furnished** and 0 means **not furnished**."
      ],
      "metadata": {
        "id": "bh7kuQ0b4p1K"
      }
    },
    {
      "cell_type": "code",
      "source": [
        "dataset.furniture.value_counts()"
      ],
      "metadata": {
        "id": "MN0RYjIs4hH-",
        "outputId": "d8f31a80-31d3-4d79-85d7-dc8a03d1d87b",
        "colab": {
          "base_uri": "https://localhost:8080/"
        }
      },
      "execution_count": 73,
      "outputs": [
        {
          "output_type": "execute_result",
          "data": {
            "text/plain": [
              "not furnished    8086\n",
              "furnished        2606\n",
              "Name: furniture, dtype: int64"
            ]
          },
          "metadata": {},
          "execution_count": 73
        }
      ]
    },
    {
      "cell_type": "code",
      "source": [
        "dataset[\"furniture\"].map({\"furnished\":1,\"not furnished\":0})"
      ],
      "metadata": {
        "id": "mUzrgKd74xjO",
        "outputId": "67d93a08-6c9a-4e4e-96d0-0e3f716a4293",
        "colab": {
          "base_uri": "https://localhost:8080/"
        }
      },
      "execution_count": 74,
      "outputs": [
        {
          "output_type": "execute_result",
          "data": {
            "text/plain": [
              "0        1\n",
              "1        0\n",
              "2        0\n",
              "3        0\n",
              "4        0\n",
              "        ..\n",
              "10687    1\n",
              "10688    0\n",
              "10689    1\n",
              "10690    1\n",
              "10691    0\n",
              "Name: furniture, Length: 10692, dtype: int64"
            ]
          },
          "metadata": {},
          "execution_count": 74
        }
      ]
    },
    {
      "cell_type": "markdown",
      "source": [
        "## **How much is your house worth?**\n",
        "\n",
        "\n",
        "We will try to find out the answer based on our ML model\n"
      ],
      "metadata": {
        "id": "Ow-g6iW4q_em"
      }
    }
  ]
}